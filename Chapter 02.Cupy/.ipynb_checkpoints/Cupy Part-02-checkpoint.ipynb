{
 "cells": [
  {
   "cell_type": "markdown",
   "metadata": {},
   "source": [
    "# Cupy Part-02 - Cupy와 선형대수\n",
    "---\n",
    "\n",
    "선형 대수는 데이터 과학에서 기술과 개을 뒷받침해 주는 분야 입니다.\n",
    "\n",
    "이번 챕터에서는 Cupy를 이용한 선형 대수 표현을 배웁니다.\n",
    "\n",
    "실은 Cupy에서는 이미 대부분의 선형대수의 개념을 함수로 만들어 놓았습니다.\n",
    "\n",
    "그래도 아직 익숙하지 못한 분들을 위해, 그리고 처음보는 사람들을 위해 선형대수 부분을 파트를 나누어 넣어두었습니다.\n",
    "\n",
    "따라서 앞서 배웠던 기초부분에 대해 익숙하신 분들이라면 넘어가셔도 관계 없습니다.\n",
    "\n",
    "자 이제, 선형대수의 몇가지 개념과, 표현을 살짝 맛보고 가도록합시다.\n",
    "\n"
   ]
  },
  {
   "cell_type": "markdown",
   "metadata": {},
   "source": [
    "## Import\n",
    "---\n",
    "필요한 모듈 부터 임포트 해봅시다.\n",
    "\n",
    "이번 장 역시 Numpy와 Cupy 모두 로드합니다."
   ]
  },
  {
   "cell_type": "code",
   "execution_count": 1,
   "metadata": {},
   "outputs": [],
   "source": [
    "import numpy as np\n",
    "import cupy as cp"
   ]
  },
  {
   "cell_type": "markdown",
   "metadata": {},
   "source": [
    "## 2.1 벡터\n",
    "---\n",
    "\n",
    "### 2.1.0 벡터의 개념\n",
    "\n",
    "---\n",
    "\n",
    "벡터와 스칼라는 수학을 공부해본 사람이라면 많이 본 개념일 것입니다.\n",
    "\n",
    "저는 수학과가 아니기에 간단하게 방향이 있는 값 정도로 이해하고 있습니다.\n",
    "\n",
    "어떤 책에서는 어떤 유한한 차원의 공간에 존재하는 점들이라고 설명합니다.\n",
    "\n",
    "대부분의 숫자는 벡터로 표현가능합니다.\n",
    "\n",
    "그리고 앞으로 많은경우 이 벡터로 계산, 표현을 할 예정입니다.\n",
    "\n",
    "그러므로 벡터 사용에 익숙해 지는 것이 좋습니다."
   ]
  },
  {
   "cell_type": "markdown",
   "metadata": {},
   "source": [
    "### 2.1.1 벡터의 표현\n",
    "\n",
    "---\n",
    "\n",
    "벡터를 가장 간단하게 표현하는 방법은 list로 표현하는 것입니다.\n",
    "\n",
    "하지만, 저희는 벡터의 개념을 Python으로 이해하는 것이 아니라, cupy와 numpy로 이해할 예정입니다.\n",
    "\n",
    "두 라이브러리에서 제공하는 벡터 표현 방식 중 가장 간다한 방식은 array로 표현하는 것입니다."
   ]
  },
  {
   "cell_type": "code",
   "execution_count": 2,
   "metadata": {},
   "outputs": [],
   "source": [
    "numpy_vector = np.array([10, 20, 30])\n",
    "cupy_vector = cp.array([10, 20, 30])"
   ]
  },
  {
   "cell_type": "markdown",
   "metadata": {},
   "source": [
    "저희는 앞서 cupy에 기초에서 array의 사용법에 대해서 익혔습니다.\n",
    "\n",
    "기본적으로 numpy와 cupy의 array 사용법에는 크게 다른점이 없습니다.\n",
    "\n",
    "다만 cupy의 경우 데이터가 GPU 메모리에 올라가 있는 것은 주의 하셔야 합니다."
   ]
  },
  {
   "cell_type": "code",
   "execution_count": 3,
   "metadata": {},
   "outputs": [
    {
     "name": "stdout",
     "output_type": "stream",
     "text": [
      "Sun Aug 16 22:27:56 2020       \r\n",
      "+-----------------------------------------------------------------------------+\r\n",
      "| NVIDIA-SMI 440.100      Driver Version: 440.100      CUDA Version: 10.2     |\r\n",
      "|-------------------------------+----------------------+----------------------+\r\n",
      "| GPU  Name        Persistence-M| Bus-Id        Disp.A | Volatile Uncorr. ECC |\r\n",
      "| Fan  Temp  Perf  Pwr:Usage/Cap|         Memory-Usage | GPU-Util  Compute M. |\r\n",
      "|===============================+======================+======================|\r\n",
      "|   0  GeForce GTX 1050    Off  | 00000000:01:00.0 Off |                  N/A |\r\n",
      "| N/A   45C    P0    N/A /  N/A |    398MiB /  4042MiB |     41%      Default |\r\n",
      "+-------------------------------+----------------------+----------------------+\r\n",
      "                                                                               \r\n",
      "+-----------------------------------------------------------------------------+\r\n",
      "| Processes:                                                       GPU Memory |\r\n",
      "|  GPU       PID   Type   Process name                             Usage      |\r\n",
      "|=============================================================================|\r\n",
      "|    0      3117      G   /usr/lib/xorg/Xorg                           168MiB |\r\n",
      "|    0      3292      G   /usr/bin/gnome-shell                          90MiB |\r\n",
      "|    0      3851      G   ...uest-channel-token=12456463054120620239    22MiB |\r\n",
      "|    0      5283      G   ...AAAAAAAAAAAACAAAAAAAAAA= --shared-files    36MiB |\r\n",
      "|    0      6364      C   ...eyoung/anaconda3/envs/RAPIDS/bin/python    67MiB |\r\n",
      "+-----------------------------------------------------------------------------+\r\n"
     ]
    }
   ],
   "source": [
    "!nvidia-smi"
   ]
  },
  {
   "cell_type": "markdown",
   "metadata": {},
   "source": [
    "### 2.1.2 벡터의 덧셈\n",
    "---\n",
    "\n",
    "벡터의 덧셈에 대해 알아보겠습니다.\n",
    "\n",
    "벡터끼리 더한다는 것은, 각 벡터상에서 같은 위치에 있는 성분끼리 더한다는 의미입니다."
   ]
  },
  {
   "cell_type": "code",
   "execution_count": 4,
   "metadata": {},
   "outputs": [
    {
     "data": {
      "image/png": "[encoded data removed]",
      "text/plain": [
       "<Figure size 432x288 with 1 Axes>"
      ]
     },
     "metadata": {
      "needs_background": "light"
     },
     "output_type": "display_data"
    }
   ],
   "source": [
    "import matplotlib.pyplot as plt\n",
    "\n",
    "%matplotlib inline\n",
    "\n",
    "plt.quiver([0],[0],[1],[2], angles=\"xy\", scale=4.5)\n",
    "plt.quiver([1],[2],[2],[1], angles=\"xy\", scale=3.5)\n",
    "plt.plot([0,3],[0,3], 'b:')\n",
    "plt.show()\n",
    "plt.close()"
   ]
  },
  {
   "cell_type": "markdown",
   "metadata": {},
   "source": [
    "Numpy와 Cupy 모두 add라는 메소드로 구현이 되어 있습니다.\n",
    "\n",
    "그림으로 보았던 예시들로 실험해보겠습니다.\n",
    "\n",
    "#### numpy"
   ]
  },
  {
   "cell_type": "code",
   "execution_count": 5,
   "metadata": {},
   "outputs": [
    {
     "name": "stdout",
     "output_type": "stream",
     "text": [
      "[3 3]\n"
     ]
    }
   ],
   "source": [
    "vector1 = np.array([1,2])\n",
    "vector2 = np.array([2,1])\n",
    "\n",
    "result = np.add(vector1, vector2)\n",
    "print(result)"
   ]
  },
  {
   "cell_type": "markdown",
   "metadata": {},
   "source": [
    "#### cupy"
   ]
  },
  {
   "cell_type": "code",
   "execution_count": 6,
   "metadata": {},
   "outputs": [
    {
     "name": "stdout",
     "output_type": "stream",
     "text": [
      "[3 3]\n"
     ]
    }
   ],
   "source": [
    "vector1 = cp.array([1,2])\n",
    "vector2 = cp.array([2,1])\n",
    "\n",
    "result = cp.add(vector1, vector2)\n",
    "print(result)"
   ]
  },
  {
   "cell_type": "markdown",
   "metadata": {},
   "source": [
    "### 2.1.3 벡터의 뺄셈\n",
    "---\n",
    "\n",
    "벡터의 뺄셈도 덧셈과 마찬가지로 성분별로 진행합니다.\n",
    "\n",
    "Numpy와 Cupy모두, subtract 함수로 구현이 되어있습니다.\n",
    "\n",
    "#### numpy"
   ]
  },
  {
   "cell_type": "code",
   "execution_count": 7,
   "metadata": {},
   "outputs": [
    {
     "name": "stdout",
     "output_type": "stream",
     "text": [
      "[-1  1]\n"
     ]
    }
   ],
   "source": [
    "vector1 = np.array([1,2])\n",
    "vector2 = np.array([2,1])\n",
    "\n",
    "result = np.subtract(vector1, vector2)\n",
    "print(result)"
   ]
  },
  {
   "cell_type": "markdown",
   "metadata": {},
   "source": [
    "#### cupy"
   ]
  },
  {
   "cell_type": "code",
   "execution_count": 8,
   "metadata": {},
   "outputs": [
    {
     "name": "stdout",
     "output_type": "stream",
     "text": [
      "[-1  1]\n"
     ]
    }
   ],
   "source": [
    "vector1 = cp.array([1,2])\n",
    "vector2 = cp.array([2,1])\n",
    "\n",
    "result = cp.subtract(vector1, vector2)\n",
    "print(result)"
   ]
  },
  {
   "cell_type": "markdown",
   "metadata": {},
   "source": [
    "### 2.1.4 벡터와 스칼라곱\n",
    "---\n",
    "\n",
    "벡터와 스칼라곱은 벡터의 각 원소에 스칼라를 곱하는 것으로 표현합니다.\n",
    "\n",
    "이는 multiply함수로 표현할 수 있습니다.\n",
    "\n",
    "#### numpy"
   ]
  },
  {
   "cell_type": "code",
   "execution_count": 10,
   "metadata": {},
   "outputs": [
    {
     "name": "stdout",
     "output_type": "stream",
     "text": [
      "[2 4]\n"
     ]
    }
   ],
   "source": [
    "vector = np.array([1,2])\n",
    "scalar = 2\n",
    "\n",
    "result = np.multiply(vector,  scalar)\n",
    "print(result)"
   ]
  },
  {
   "cell_type": "markdown",
   "metadata": {},
   "source": [
    "#### cupy"
   ]
  },
  {
   "cell_type": "code",
   "execution_count": 12,
   "metadata": {},
   "outputs": [
    {
     "name": "stdout",
     "output_type": "stream",
     "text": [
      "[2 4]\n"
     ]
    }
   ],
   "source": [
    "vector = cp.array([1,2])\n",
    "scalar = 2\n",
    "\n",
    "result = cp.multiply(vector, scalar)\n",
    "print(result)"
   ]
  },
  {
   "cell_type": "markdown",
   "metadata": {},
   "source": [
    "### 2.1.5 벡터의 내적\n",
    "---\n",
    "\n",
    "벡터의 내적은 각 요소별로 곱한 후 더한 값을 의미합니다.\n",
    "\n",
    "numpy와 cupy에선 dot이라는 함수로 구현되어 있습니다."
   ]
  },
  {
   "cell_type": "code",
   "execution_count": 13,
   "metadata": {},
   "outputs": [
    {
     "name": "stdout",
     "output_type": "stream",
     "text": [
      "4\n"
     ]
    }
   ],
   "source": [
    "vector1 = np.array([1,2])\n",
    "vector2 = np.array([2,1])\n",
    "\n",
    "result = np.dot(vector1, vector2)\n",
    "print(result)"
   ]
  },
  {
   "cell_type": "code",
   "execution_count": 14,
   "metadata": {},
   "outputs": [
    {
     "name": "stdout",
     "output_type": "stream",
     "text": [
      "4\n"
     ]
    }
   ],
   "source": [
    "vector1 = cp.array([1,2])\n",
    "vector2 = cp.array([2,1])\n",
    "\n",
    "result = cp.dot(vector1, vector2)\n",
    "print(result)"
   ]
  },
  {
   "cell_type": "markdown",
   "metadata": {},
   "source": [
    "### 2.1.6 벡터의 제곱\n",
    "---\n",
    "\n",
    "벡터의 요소별 제곱은 square라는 함수로 구현되어 있습니다.\n",
    "\n",
    "#### numpy"
   ]
  },
  {
   "cell_type": "code",
   "execution_count": 20,
   "metadata": {},
   "outputs": [
    {
     "name": "stdout",
     "output_type": "stream",
     "text": [
      "[1 4]\n"
     ]
    }
   ],
   "source": [
    "vector = np.array([1,2])\n",
    "\n",
    "result = np.square(vector)\n",
    "print(result)"
   ]
  },
  {
   "cell_type": "markdown",
   "metadata": {},
   "source": [
    "#### cupy"
   ]
  },
  {
   "cell_type": "code",
   "execution_count": 22,
   "metadata": {
    "scrolled": true
   },
   "outputs": [
    {
     "name": "stdout",
     "output_type": "stream",
     "text": [
      "[1 4]\n"
     ]
    }
   ],
   "source": [
    "vector = cp.array([1,2])\n",
    "\n",
    "result = cp.square(vector)\n",
    "print(result)"
   ]
  },
  {
   "cell_type": "markdown",
   "metadata": {},
   "source": [
    "### 2.1.7 벡터의 루트\n",
    "---\n",
    "\n",
    "벡터의 요소별 루트는 sqrt라는 함수로 구현되어 있습니다.\n",
    "\n",
    "#### numpy"
   ]
  },
  {
   "cell_type": "code",
   "execution_count": 16,
   "metadata": {},
   "outputs": [
    {
     "name": "stdout",
     "output_type": "stream",
     "text": [
      "[1.         1.41421356]\n"
     ]
    }
   ],
   "source": [
    "vector = np.array([1,2])\n",
    "\n",
    "result = np.sqrt(vector)\n",
    "print(result)"
   ]
  },
  {
   "cell_type": "markdown",
   "metadata": {},
   "source": [
    "#### cupy"
   ]
  },
  {
   "cell_type": "code",
   "execution_count": 17,
   "metadata": {},
   "outputs": [
    {
     "name": "stdout",
     "output_type": "stream",
     "text": [
      "[1.         1.41421356]\n"
     ]
    }
   ],
   "source": [
    "vector = cp.array([1,2])\n",
    "\n",
    "result = cp.sqrt(vector)\n",
    "print(result)"
   ]
  },
  {
   "cell_type": "markdown",
   "metadata": {},
   "source": [
    "### 2.1.8 벡터의 거리\n",
    "---\n",
    "\n",
    "앞서 배운 개념들을 이용해 간단한 벡터간 거리 연산도 가능합니다.\n",
    "\n",
    "지금은 흔히 사용하는 유클리디언 거리를 계산하도록 하겠습니다.\n",
    "\n",
    "#### numpy"
   ]
  },
  {
   "cell_type": "code",
   "execution_count": 24,
   "metadata": {},
   "outputs": [
    {
     "name": "stdout",
     "output_type": "stream",
     "text": [
      "1.4142135623730951\n"
     ]
    }
   ],
   "source": [
    "vector1 = np.array([1,2])\n",
    "vector2 = np.array([2,3])\n",
    "\n",
    "sub = np.subtract(vector1, vector2)\n",
    "square = np.square(sub)\n",
    "sums = np.sum(square)\n",
    "result = np.sqrt(sums)\n",
    "print(result)"
   ]
  },
  {
   "cell_type": "markdown",
   "metadata": {},
   "source": [
    "실은 위의 표현은 표현이 조금 복잡하고, 파이썬스럽지 않습니다.\n",
    "\n",
    "좀 더 간결하게 표현해보겠습니다."
   ]
  },
  {
   "cell_type": "code",
   "execution_count": 26,
   "metadata": {},
   "outputs": [
    {
     "name": "stdout",
     "output_type": "stream",
     "text": [
      "1.4142135623730951\n"
     ]
    }
   ],
   "source": [
    "vector1 = np.array([1,2])\n",
    "vector2 = np.array([2,3])\n",
    "\n",
    "result = np.sqrt(np.sum(np.square(np.subtract(vector1, vector2))))\n",
    "\n",
    "print(result)"
   ]
  },
  {
   "cell_type": "markdown",
   "metadata": {},
   "source": [
    "간결하게 한줄로 표현한다고 해보았는데 간결하기보단 보기만 안좋아졌습니다.\n",
    "\n",
    "dot을 이용한다면 좀 더 간단하게 표현 할 수 있을 것 같습니다."
   ]
  },
  {
   "cell_type": "code",
   "execution_count": 28,
   "metadata": {},
   "outputs": [
    {
     "name": "stdout",
     "output_type": "stream",
     "text": [
      "1.4142135623730951\n"
     ]
    }
   ],
   "source": [
    "vector1 = np.array([1,2])\n",
    "vector2 = np.array([2,3])\n",
    "\n",
    "result = np.sqrt(np.dot(np.subtract(vector1, vector2), np.subtract(vector1, vector2)))\n",
    "print(result)"
   ]
  },
  {
   "cell_type": "markdown",
   "metadata": {},
   "source": [
    "이것도 np.subtract부분이 두번 등장하는게 별로 마음에 들지 않습니다.\n",
    "\n",
    "np.subtract를 다른 변수에 담아서 바꿔보겠습니다."
   ]
  },
  {
   "cell_type": "code",
   "execution_count": 29,
   "metadata": {},
   "outputs": [
    {
     "name": "stdout",
     "output_type": "stream",
     "text": [
      "1.4142135623730951\n"
     ]
    }
   ],
   "source": [
    "vector1 = np.array([1,2])\n",
    "vector2 = np.array([2,3])\n",
    "\n",
    "\n",
    "sub = np.subtract(vector1, vector2)\n",
    "result = np.sqrt(np.dot(sub, sub))\n",
    "print(result)"
   ]
  },
  {
   "cell_type": "markdown",
   "metadata": {},
   "source": [
    "조금 나아졌지만, 아직도 조금 보기 안좋아보입니다.\n",
    "\n",
    "함수로 쓰면 좀 더 나아질 수도 있습니다."
   ]
  },
  {
   "cell_type": "code",
   "execution_count": 39,
   "metadata": {},
   "outputs": [
    {
     "name": "stdout",
     "output_type": "stream",
     "text": [
      "1.4142135623730951\n"
     ]
    }
   ],
   "source": [
    "def sum_of_square(v):\n",
    "    return np.dot(v, v)\n",
    "\n",
    "def distance(v,w):\n",
    "    return np.sqrt(sum_of_square(np.subtract(v,w)))\n",
    "\n",
    "vector1 = np.array([1,2])\n",
    "vector2 = np.array([2,3])\n",
    "\n",
    "result = distance(vector1, vector2)\n",
    "print(result)"
   ]
  },
  {
   "cell_type": "markdown",
   "metadata": {},
   "source": [
    "조금 간결해 졌나요?\n",
    "\n",
    "솔직히 다르게 표현할 수 있는 방법이 넘쳐 보이지만 우선 이정도로 마치도록하겠습니다.\n",
    "\n",
    "여러분들도 다양하게 거리를 표현해보시길 바라겠습니다.\n"
   ]
  },
  {
   "cell_type": "markdown",
   "metadata": {},
   "source": [
    "### cupy\n",
    "\n",
    "cupy는 간단하게 나누어 표현하겠습니다."
   ]
  },
  {
   "cell_type": "code",
   "execution_count": 40,
   "metadata": {},
   "outputs": [
    {
     "name": "stdout",
     "output_type": "stream",
     "text": [
      "1.4142135623730951\n"
     ]
    }
   ],
   "source": [
    "vector1 = cp.array([1,2])\n",
    "vector2 = cp.array([2,3])\n",
    "\n",
    "sub = cp.subtract(vector1, vector2)\n",
    "square=  cp.square(sub)\n",
    "dot = cp.dot(square, square)\n",
    "result = cp.sqrt(dot)\n",
    "print(result)"
   ]
  },
  {
   "cell_type": "markdown",
   "metadata": {},
   "source": [
    "## 2.2 행렬\n",
    "___\n",
    "\n",
    "행렬은 보통 2차원 이상의 차원으로 구성되어 있는 숫자의 집합을 의미하며, 차원에 따라 2차원 행렬, 3차원 행렬, 다차원 행렬등으로 말하기도 합니다.\n",
    "\n",
    "행렬은 보통 list의 list로 표현합니다. 2차원 list, 3차원 list등으로 작성함으로 표현할 수 있습니다.\n",
    "\n",
    "당연하겠지만, numpy와 cupy에서 array를 활용하여 표현할 수도 있습니다.\n"
   ]
  },
  {
   "cell_type": "code",
   "execution_count": 45,
   "metadata": {},
   "outputs": [
    {
     "name": "stdout",
     "output_type": "stream",
     "text": [
      "[[0.63008072 0.24744348 0.88753253]\n",
      " [0.96473452 0.09799732 0.57698657]]\n"
     ]
    }
   ],
   "source": [
    "A = np.random.rand(2,3)\n",
    "\n",
    "print(A)"
   ]
  },
  {
   "cell_type": "code",
   "execution_count": 46,
   "metadata": {},
   "outputs": [
    {
     "name": "stdout",
     "output_type": "stream",
     "text": [
      "[[0.98551079 0.08121306 0.97533843]\n",
      " [0.96513577 0.39501178 0.10353943]]\n"
     ]
    }
   ],
   "source": [
    "B = cp.random.rand(2,3)\n",
    "print(B)"
   ]
  },
  {
   "cell_type": "markdown",
   "metadata": {},
   "source": [
    "행렬 파트를 공부할 때는 random.rand함수를 사용하겠습니다.\n",
    "\n",
    "random은 말그대로 random한 값을 구할때 사용하는 매소드입니다.\n",
    "\n",
    "그 중, rand는 뒤에서 배울 shape를 부여한다면, 해당하는 shape의 random한값(단, 값은 0부터 1사이)을 부여한 array를 생성합니다."
   ]
  },
  {
   "cell_type": "markdown",
   "metadata": {},
   "source": [
    "### 2.2.1 행렬의 Shape\n",
    "---\n",
    "\n",
    "행렬은 n개의 행과 k개의 열로 구성되어 있습니다.\n",
    "\n",
    "이때, n과 k는 shape라는 함수로 구할 수 있습니다.\n",
    "\n",
    "#### numpy\n"
   ]
  },
  {
   "cell_type": "code",
   "execution_count": 47,
   "metadata": {},
   "outputs": [
    {
     "name": "stdout",
     "output_type": "stream",
     "text": [
      "(2, 3)\n"
     ]
    }
   ],
   "source": [
    "A = np.random.rand(2,3)\n",
    "\n",
    "print(np.shape(A))"
   ]
  },
  {
   "cell_type": "markdown",
   "metadata": {},
   "source": [
    "또한 numpy ndarray에 내장되어있는 shape를 활용하여 구할 수도 있습니다."
   ]
  },
  {
   "cell_type": "code",
   "execution_count": 50,
   "metadata": {},
   "outputs": [
    {
     "name": "stdout",
     "output_type": "stream",
     "text": [
      "(2, 3)\n"
     ]
    }
   ],
   "source": [
    "print(A.shape)"
   ]
  },
  {
   "cell_type": "markdown",
   "metadata": {},
   "source": [
    "#### cupy\n",
    "\n",
    "cupy는 shape를 직접제공하지 않습니다.\n",
    "\n",
    "cupy ndarray내부의 shape를 사용하여 구할 수 있습니다."
   ]
  },
  {
   "cell_type": "code",
   "execution_count": 49,
   "metadata": {},
   "outputs": [
    {
     "name": "stdout",
     "output_type": "stream",
     "text": [
      "(2, 3)\n"
     ]
    }
   ],
   "source": [
    "B = cp.random.rand(2,3)\n",
    "\n",
    "print(B.shape)"
   ]
  },
  {
   "cell_type": "markdown",
   "metadata": {},
   "source": [
    "### 2.2.2 단위 행렬\n",
    "---\n",
    "\n",
    "기본적으로 단위 행렬이란, 대각선에 해당하는 성분은 1, 나머지는 0에 해당하는 n차 정사각 행렬을 의미합니다.\n",
    "\n",
    "numpy와 cupy에서는 eye이라는 함수로 제공하고있습니다.\n",
    "\n",
    "#### numpy"
   ]
  },
  {
   "cell_type": "code",
   "execution_count": 59,
   "metadata": {},
   "outputs": [
    {
     "name": "stdout",
     "output_type": "stream",
     "text": [
      "[[1. 0. 0.]\n",
      " [0. 1. 0.]\n",
      " [0. 0. 1.]]\n"
     ]
    }
   ],
   "source": [
    "A = np.eye(3,3)\n",
    "\n",
    "print(A)"
   ]
  },
  {
   "cell_type": "markdown",
   "metadata": {},
   "source": [
    "#### cupy"
   ]
  },
  {
   "cell_type": "code",
   "execution_count": 60,
   "metadata": {},
   "outputs": [
    {
     "name": "stdout",
     "output_type": "stream",
     "text": [
      "[[1. 0. 0.]\n",
      " [0. 1. 0.]\n",
      " [0. 0. 1.]]\n"
     ]
    }
   ],
   "source": [
    "B = cp.eye(3,3)\n",
    "\n",
    "print(B)"
   ]
  },
  {
   "cell_type": "markdown",
   "metadata": {},
   "source": [
    "### 2.2.3 행렬간 덧셈\n",
    "---\n",
    "\n",
    "행렬간 덧셈은 벡터간의 덧셈과 유사합니다.\n",
    "\n",
    "실은 행렬을 벡터의 확장된 표현으로 보기도합니다."
   ]
  }
 ],
 "metadata": {
  "kernelspec": {
   "display_name": "Python 3",
   "language": "python",
   "name": "python3"
  },
  "language_info": {
   "codemirror_mode": {
    "name": "ipython",
    "version": 3
   },
   "file_extension": ".py",
   "mimetype": "text/x-python",
   "name": "python",
   "nbconvert_exporter": "python",
   "pygments_lexer": "ipython3",
   "version": "3.6.11"
  }
 },
 "nbformat": 4,
 "nbformat_minor": 4
}
