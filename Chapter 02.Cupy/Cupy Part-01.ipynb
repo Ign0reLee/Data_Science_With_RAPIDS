{
 "cells": [
  {
   "cell_type": "markdown",
   "metadata": {},
   "source": [
    "# Cupy Part 01 - Cupy 기초\n",
    "---\n",
    "\n",
    "Cupy란 무엇일까요?\n",
    "\n",
    "대부분의 사람들의 경우 Python에서 수학적인 계산을 할 때 Numpy를 사용할것이라 생각합니다.\n",
    "\n",
    "Numpy는 훌륭하고, 빠르고, 편하고, 좋은 라이브러리입니다.\n",
    "\n",
    "하지만 Cpu에서 돌아간다는 점 때문에, 직접 같은 수행을 만드는 것 보단 빠르지만, 대규모 작업을 처리할 때 조금 작업시간이 부담스러울 때도 있습니다.\n",
    "\n",
    "Cupy란, Python에서 NVIDIA CUDA를 사용한 가속화 컴퓨팅을 제공하는 오픈소스 라이브러리입니다.\n",
    "\n",
    "Cupy는 Numpy를 뛰어넘는 속도를 보여준다고합니다.\n",
    "\n",
    "심지어, 자체 테스트에서 연산이 100배이상 차이나는 경우도 있었다고 합니다.\n",
    "\n",
    "그렇다면 cupy는 어떻게 사용하는걸까요?"
   ]
  },
  {
   "cell_type": "markdown",
   "metadata": {},
   "source": [
    "## Import\n",
    "---\n",
    "\n",
    "Cupy와 비교하기위해 Numpy도 같이 임포트 했습니다.\n",
    "\n",
    "실제로 사용하실땐, Cupy의 매서드들은 모두 Numpy의 매서드와 동일하기 때문에, Numpy 부분을 Cupy로 대체하는 것만으로 대부분의 코드가 포팅가능합니다."
   ]
  },
  {
   "cell_type": "code",
   "execution_count": 1,
   "metadata": {},
   "outputs": [],
   "source": [
    "import cupy as cp\n",
    "import numpy as np"
   ]
  },
  {
   "cell_type": "markdown",
   "metadata": {},
   "source": [
    "## Simple Test Code\n",
    "---\n",
    "\n",
    "간단한 코드를 통해 사용법을 보겠습니다.\n",
    "\n",
    "[1,2,3,4,5,6] 배열을 만들고\n",
    "2 * 3으로 리쉐이프했습니다.\n",
    "\n",
    "그 결과와 메모리 사용량을 Nvidia-Smi로 확인했습니다."
   ]
  },
  {
   "cell_type": "code",
   "execution_count": 2,
   "metadata": {},
   "outputs": [
    {
     "name": "stdout",
     "output_type": "stream",
     "text": [
      "X :  [[0. 1. 2.]\n",
      " [3. 4. 5.]]\n",
      "X sum :  [ 3. 12.]\n",
      "Sun Aug  9 23:19:55 2020       \n",
      "+-----------------------------------------------------------------------------+\n",
      "| NVIDIA-SMI 440.100      Driver Version: 440.100      CUDA Version: 10.2     |\n",
      "|-------------------------------+----------------------+----------------------+\n",
      "| GPU  Name        Persistence-M| Bus-Id        Disp.A | Volatile Uncorr. ECC |\n",
      "| Fan  Temp  Perf  Pwr:Usage/Cap|         Memory-Usage | GPU-Util  Compute M. |\n",
      "|===============================+======================+======================|\n",
      "|   0  GeForce GTX 1050    Off  | 00000000:01:00.0 Off |                  N/A |\n",
      "| N/A   41C    P0    N/A /  N/A |    359MiB /  4042MiB |      9%      Default |\n",
      "+-------------------------------+----------------------+----------------------+\n",
      "                                                                               \n",
      "+-----------------------------------------------------------------------------+\n",
      "| Processes:                                                       GPU Memory |\n",
      "|  GPU       PID   Type   Process name                             Usage      |\n",
      "|=============================================================================|\n",
      "|    0      1436      G   /usr/lib/xorg/Xorg                           182MiB |\n",
      "|    0      1609      G   /usr/bin/gnome-shell                          88MiB |\n",
      "|    0      2024      G   ...AAAAAAAAAAAACAAAAAAAAAA= --shared-files    36MiB |\n",
      "|    0      2925      G   ...quest-channel-token=1833626773355375055    48MiB |\n",
      "+-----------------------------------------------------------------------------+\n",
      "CPU times: user 5.3 ms, sys: 726 µs, total: 6.02 ms\n",
      "Wall time: 119 ms\n"
     ]
    }
   ],
   "source": [
    "%%time\n",
    "\n",
    "x_num = np.arange(6).reshape(2,3).astype(\"f\")\n",
    "print(\"X : \", x_num)\n",
    "print(\"X sum : \", x_num.sum(axis=1))\n",
    "\n",
    "!nvidia-smi"
   ]
  },
  {
   "cell_type": "code",
   "execution_count": 3,
   "metadata": {},
   "outputs": [
    {
     "name": "stdout",
     "output_type": "stream",
     "text": [
      "X :  [[0. 1. 2.]\n",
      " [3. 4. 5.]]\n",
      "X sum :  [ 3. 12.]\n",
      "Sun Aug  9 23:19:56 2020       \n",
      "+-----------------------------------------------------------------------------+\n",
      "| NVIDIA-SMI 440.100      Driver Version: 440.100      CUDA Version: 10.2     |\n",
      "|-------------------------------+----------------------+----------------------+\n",
      "| GPU  Name        Persistence-M| Bus-Id        Disp.A | Volatile Uncorr. ECC |\n",
      "| Fan  Temp  Perf  Pwr:Usage/Cap|         Memory-Usage | GPU-Util  Compute M. |\n",
      "|===============================+======================+======================|\n",
      "|   0  GeForce GTX 1050    Off  | 00000000:01:00.0 Off |                  N/A |\n",
      "| N/A   41C    P0    N/A /  N/A |    435MiB /  4042MiB |     10%      Default |\n",
      "+-------------------------------+----------------------+----------------------+\n",
      "                                                                               \n",
      "+-----------------------------------------------------------------------------+\n",
      "| Processes:                                                       GPU Memory |\n",
      "|  GPU       PID   Type   Process name                             Usage      |\n",
      "|=============================================================================|\n",
      "|    0      1436      G   /usr/lib/xorg/Xorg                           182MiB |\n",
      "|    0      1609      G   /usr/bin/gnome-shell                          88MiB |\n",
      "|    0      2024      G   ...AAAAAAAAAAAACAAAAAAAAAA= --shared-files    36MiB |\n",
      "|    0      2925      G   ...quest-channel-token=1833626773355375055    47MiB |\n",
      "|    0      4170      C   ...eyoung/anaconda3/envs/RAPIDS/bin/python    67MiB |\n",
      "+-----------------------------------------------------------------------------+\n",
      "CPU times: user 175 ms, sys: 141 ms, total: 316 ms\n",
      "Wall time: 449 ms\n"
     ]
    }
   ],
   "source": [
    "%%time\n",
    "x_cp = cp.arange(6).reshape(2,3).astype('f')\n",
    "print(\"X : \" , x_cp)\n",
    "print(\"X sum : \", x_cp.sum(axis=1))\n",
    "\n",
    "!nvidia-smi"
   ]
  },
  {
   "cell_type": "markdown",
   "metadata": {},
   "source": [
    "지난번에 보았던 설치 부분에서도, 봤던 코드와 비슷합니다.\n",
    "\n",
    "GPU메모리 가장 아랫부분을 보면, 확실히 올라간 것이 보이죠?\n",
    "\n",
    "GPU에서 정상 동작함을 알 수 있습니다."
   ]
  },
  {
   "cell_type": "markdown",
   "metadata": {},
   "source": [
    "## Time\n",
    "---\n",
    "그런데 한가지 이상한 점이 있습니다. Numpy보다 빠르다고 이야기를 했는데, Numpy가 Cupy보다 쉘 동작 시간이 더 짧음을 알 수 있습니다.\n",
    "\n",
    "어째서 Numpy의 쉘 동작 시간이 더 빨랐을까요?\n",
    "\n",
    "이는 GPU 솔루션을 잘 못 적용했기 때문입니다.\n",
    "\n",
    "무슨 이야기냐, 다음과 같은 상황에서는 GPU보다 CPU가 더 빠른 성능을 낼 수도 있습니다.\n",
    "\n",
    "  1. 계산량이 충분히 크지 않을경우\n",
    "  2. 잘못된 구조로 GPU 아키텍쳐를 만들었을 경우\n",
    "  3. 처음 로드하는 경우\n",
    " \n",
    "지금의 경우에는 3번과 1번이 해당하겠네요.\n",
    " \n",
    "자, 그러면 실제로도 연산량이 많을수록 속도 차이가 나는지 한번 코드의 연산량을 높여볼까요?"
   ]
  },
  {
   "cell_type": "markdown",
   "metadata": {},
   "source": [
    "## Computing Time Test\n",
    "---\n",
    "\n",
    "지금 부터 간단하게 랜덤하게 생성한 NxN크기의 행렬을 두개 만든 후, 내적을 실행하도록 하겠습니다.\n",
    "\n",
    "그리고 N의 크기를 증가시켜가면서 속도의 성능 차이가 얼마나 되는지도 함께 살펴보도록 하겠습니다."
   ]
  },
  {
   "cell_type": "markdown",
   "metadata": {},
   "source": [
    "### case 1. n=100"
   ]
  },
  {
   "cell_type": "code",
   "execution_count": 4,
   "metadata": {},
   "outputs": [],
   "source": [
    "n = 100"
   ]
  },
  {
   "cell_type": "code",
   "execution_count": 5,
   "metadata": {},
   "outputs": [
    {
     "name": "stdout",
     "output_type": "stream",
     "text": [
      "CPU times: user 15.3 ms, sys: 46.7 ms, total: 62 ms\n",
      "Wall time: 17.3 ms\n"
     ]
    }
   ],
   "source": [
    "%%time\n",
    "a = np.random.rand(n,n)\n",
    "b = np.random.rand(n,n)\n",
    "\n",
    "result = np.matmul(a,b)"
   ]
  },
  {
   "cell_type": "code",
   "execution_count": 6,
   "metadata": {
    "scrolled": true
   },
   "outputs": [
    {
     "name": "stdout",
     "output_type": "stream",
     "text": [
      "CPU times: user 151 ms, sys: 34.5 ms, total: 186 ms\n",
      "Wall time: 185 ms\n"
     ]
    }
   ],
   "source": [
    "%%time\n",
    "a = cp.random.rand(n,n)\n",
    "b = cp.random.rand(n,n)\n",
    "\n",
    "result = cp.matmul(a,b)"
   ]
  },
  {
   "cell_type": "markdown",
   "metadata": {},
   "source": [
    "### case 2. n=1000"
   ]
  },
  {
   "cell_type": "code",
   "execution_count": 7,
   "metadata": {},
   "outputs": [],
   "source": [
    "n = 1000"
   ]
  },
  {
   "cell_type": "code",
   "execution_count": 8,
   "metadata": {},
   "outputs": [
    {
     "name": "stdout",
     "output_type": "stream",
     "text": [
      "CPU times: user 152 ms, sys: 86.1 ms, total: 238 ms\n",
      "Wall time: 52.7 ms\n"
     ]
    }
   ],
   "source": [
    "%%time\n",
    "a = np.random.rand(n,n)\n",
    "b = np.random.rand(n,n)\n",
    "\n",
    "result = np.matmul(a,b)"
   ]
  },
  {
   "cell_type": "code",
   "execution_count": 9,
   "metadata": {},
   "outputs": [
    {
     "name": "stdout",
     "output_type": "stream",
     "text": [
      "CPU times: user 2.95 ms, sys: 2.2 ms, total: 5.15 ms\n",
      "Wall time: 992 µs\n"
     ]
    }
   ],
   "source": [
    "%%time\n",
    "a = cp.random.rand(n,n)\n",
    "b = cp.random.rand(n,n)\n",
    "\n",
    "result = cp.matmul(a,b)"
   ]
  },
  {
   "cell_type": "markdown",
   "metadata": {},
   "source": [
    "### case 3. n=10000"
   ]
  },
  {
   "cell_type": "code",
   "execution_count": 10,
   "metadata": {},
   "outputs": [],
   "source": [
    "n = 10000"
   ]
  },
  {
   "cell_type": "code",
   "execution_count": 11,
   "metadata": {},
   "outputs": [
    {
     "name": "stdout",
     "output_type": "stream",
     "text": [
      "CPU times: user 2min 15s, sys: 14 s, total: 2min 29s\n",
      "Wall time: 23.8 s\n"
     ]
    }
   ],
   "source": [
    "%%time\n",
    "a = np.random.rand(n,n)\n",
    "b = np.random.rand(n,n)\n",
    "\n",
    "result = np.matmul(a,b)"
   ]
  },
  {
   "cell_type": "code",
   "execution_count": 12,
   "metadata": {},
   "outputs": [
    {
     "name": "stdout",
     "output_type": "stream",
     "text": [
      "CPU times: user 98.8 ms, sys: 92.1 ms, total: 191 ms\n",
      "Wall time: 48.5 ms\n"
     ]
    }
   ],
   "source": [
    "%%time\n",
    "a = cp.random.rand(n,n)\n",
    "b = cp.random.rand(n,n)\n",
    "\n",
    "result = cp.matmul(a,b)"
   ]
  },
  {
   "cell_type": "markdown",
   "metadata": {},
   "source": [
    "확실히 연산량이 늘어나면 늘어날 수록 Numpy에 비해 Cupy가 훨씬 빠른 속도를 내는게 보입니다.\n",
    "\n",
    "반면 맨 처음에는 Numpy가 더 좋은 성능을 내고 있음을 알 수 있습니다."
   ]
  },
  {
   "cell_type": "markdown",
   "metadata": {},
   "source": [
    "## Cupy Data Type\n",
    "---\n",
    "\n",
    "처음 Cupy의 매서드와 Numpy의 매서드가 거의 동일하다고 말씀드렸습니다.\n",
    "\n",
    "그러면 데이터 타입도 같을까요?(Numpy array등)\n",
    "\n",
    "한번확인해보겠습니다."
   ]
  },
  {
   "cell_type": "code",
   "execution_count": 13,
   "metadata": {},
   "outputs": [
    {
     "name": "stdout",
     "output_type": "stream",
     "text": [
      "[0 1 2 3 4 5]\n",
      "<class 'numpy.ndarray'>\n"
     ]
    }
   ],
   "source": [
    "Num_array = np.arange(6)\n",
    "print(Num_array)\n",
    "print(type(Num_array))"
   ]
  },
  {
   "cell_type": "code",
   "execution_count": 14,
   "metadata": {},
   "outputs": [
    {
     "name": "stdout",
     "output_type": "stream",
     "text": [
      "[0 1 2 3 4 5]\n",
      "<class 'cupy.core.core.ndarray'>\n"
     ]
    }
   ],
   "source": [
    "Cupy_array = cp.arange(6)\n",
    "print(Cupy_array)\n",
    "print(type(Cupy_array))"
   ]
  },
  {
   "cell_type": "markdown",
   "metadata": {},
   "source": [
    "둘다 ndarray라는 이름이지만 Cupy는 cupy.core.core.이고, numpy는 numpy.ndarray입니다.\n",
    "\n",
    "둘다 비슷하지만, Cupy는 cuda core에 올라가있습니다.\n",
    "\n",
    "그러면 cupy ndarray를 numpy ndarray로 내릴땐 어떻게 해야할까요?"
   ]
  },
  {
   "cell_type": "markdown",
   "metadata": {},
   "source": [
    "## Cupy.core.core.ndarray.get()\n",
    "---\n",
    "\n",
    "cupy의 ndarray에는 get()이라는 매서드가존재합니다.\n",
    "\n",
    "get은 cuda core에 올라가있는 ndarray등을 numpy array로 내리는 역할을합니다.\n",
    "\n",
    "이는 후에 데이터 시각화를 위해, numpy.ndarray등이 필요할때 많이 활용할 예정입니다."
   ]
  },
  {
   "cell_type": "code",
   "execution_count": 15,
   "metadata": {},
   "outputs": [
    {
     "name": "stdout",
     "output_type": "stream",
     "text": [
      "[0 1 2 3 4 5]\n",
      "<class 'numpy.ndarray'>\n"
     ]
    }
   ],
   "source": [
    "cpu_array = Cupy_array.get()\n",
    "print(cpu_array)\n",
    "print(type(cpu_array))"
   ]
  },
  {
   "cell_type": "markdown",
   "metadata": {},
   "source": [
    "##  Cupy method\n",
    "---\n",
    "\n",
    "마지막으로 앞으로 자주쓰일 중요한 매서드를 몇가지 살펴보겠습니다.\n",
    "\n",
    "Numpy 사용이 익숙하신 분들은 이 부분은 넘어가셔도 관계없습니다."
   ]
  },
  {
   "cell_type": "markdown",
   "metadata": {},
   "source": [
    "### cupy.array(내용)\n",
    "\n",
    "Gpu에 cupy.ndarray형 선언용 method입니다."
   ]
  },
  {
   "cell_type": "code",
   "execution_count": 16,
   "metadata": {},
   "outputs": [
    {
     "name": "stdout",
     "output_type": "stream",
     "text": [
      "[1 2 3] : <class 'cupy.core.core.ndarray'>\n"
     ]
    }
   ],
   "source": [
    "x_gpu = cp.array([1, 2, 3])\n",
    "print(\"{} : {}\".format(x_gpu, type(x_gpu)))"
   ]
  },
  {
   "cell_type": "markdown",
   "metadata": {},
   "source": [
    "또한 Numpy Array를 Cupy Array로 바꿀 수 있습니다."
   ]
  },
  {
   "cell_type": "code",
   "execution_count": 17,
   "metadata": {},
   "outputs": [
    {
     "name": "stdout",
     "output_type": "stream",
     "text": [
      "[1 2 3] : <class 'numpy.ndarray'>\n",
      "[1 2 3] : <class 'cupy.core.core.ndarray'>\n"
     ]
    }
   ],
   "source": [
    "x_cpu = np.array([1,2,3])\n",
    "print(\"{} : {}\".format(x_cpu, type(x_cpu)))\n",
    "\n",
    "x_gpu = cp.array(x_cpu)\n",
    "print(\"{} : {}\".format(x_gpu, type(x_gpu)))"
   ]
  },
  {
   "cell_type": "markdown",
   "metadata": {},
   "source": [
    "### cupy.arange(strat, stop=None, step=1, dtype=None)\n",
    "시작부터 끝지점까지 step 간격을 가진 cupyarray를 생성합니다."
   ]
  },
  {
   "cell_type": "code",
   "execution_count": 18,
   "metadata": {
    "scrolled": true
   },
   "outputs": [
    {
     "data": {
      "text/plain": [
       "array([1., 3., 5.])"
      ]
     },
     "execution_count": 18,
     "metadata": {},
     "output_type": "execute_result"
    }
   ],
   "source": [
    "cp.arange(1, 7, 2, float)"
   ]
  },
  {
   "cell_type": "markdown",
   "metadata": {},
   "source": [
    "### cupy.empty(shape, dtype=\\<class float>, order='C')\n",
    "초기화한 cupy.array를 반환합니다."
   ]
  },
  {
   "cell_type": "code",
   "execution_count": 19,
   "metadata": {},
   "outputs": [
    {
     "data": {
      "text/plain": [
       "array([[0.34339195, 0.94128988, 0.81924949],\n",
       "       [0.43385355, 0.70073458, 0.98856325]])"
      ]
     },
     "execution_count": 19,
     "metadata": {},
     "output_type": "execute_result"
    }
   ],
   "source": [
    "cp.empty([2,3])"
   ]
  },
  {
   "cell_type": "markdown",
   "metadata": {},
   "source": [
    "### cupy.ones(shape, dtype)\n",
    "1로 초기화한 cupy.array를 반환합니다."
   ]
  },
  {
   "cell_type": "code",
   "execution_count": 20,
   "metadata": {},
   "outputs": [
    {
     "data": {
      "text/plain": [
       "array([[1., 1., 1.],\n",
       "       [1., 1., 1.]])"
      ]
     },
     "execution_count": 20,
     "metadata": {},
     "output_type": "execute_result"
    }
   ],
   "source": [
    "cp.ones([2,3])"
   ]
  },
  {
   "cell_type": "markdown",
   "metadata": {},
   "source": [
    "### cupy.zeros(shape, dtype)\n",
    "0으로 초기화한 cupy.array를 반환합니다."
   ]
  },
  {
   "cell_type": "code",
   "execution_count": 21,
   "metadata": {},
   "outputs": [
    {
     "data": {
      "text/plain": [
       "array([[0., 0., 0.],\n",
       "       [0., 0., 0.]])"
      ]
     },
     "execution_count": 21,
     "metadata": {},
     "output_type": "execute_result"
    }
   ],
   "source": [
    "cp.zeros([2,3])"
   ]
  },
  {
   "cell_type": "markdown",
   "metadata": {},
   "source": [
    "### cupy.linalg.norm(cupy.ndarray)\n",
    "\n",
    "Euclidean norm(a.k.a L2 norm)을 진행합니다."
   ]
  },
  {
   "cell_type": "code",
   "execution_count": 22,
   "metadata": {},
   "outputs": [
    {
     "name": "stdout",
     "output_type": "stream",
     "text": [
      "3.7416573867739413 : <class 'cupy.core.core.ndarray'>\n"
     ]
    }
   ],
   "source": [
    "l2_gpu = cp.linalg.norm(x_gpu)\n",
    "print(\"{} : {}\".format(l2_gpu, type(l2_gpu)))"
   ]
  },
  {
   "cell_type": "markdown",
   "metadata": {},
   "source": [
    "### cupy.cuda.Device(int).use()\n",
    "cupy는 기본적으로 gpu 0을 사용하게 되어있습니다.\n",
    "<br>이 명령어를 통해 원하는 gpu로 옮길 수 있습니다.\n",
    "<br>저는 gpu가 여러대있는 컴퓨터가 없기때문에 실습을 생략하겠습니다."
   ]
  },
  {
   "cell_type": "markdown",
   "metadata": {},
   "source": [
    "### cupy.asnumpy(cupy.ndarray)\n",
    "앞서 잠깐 살펴보았던 .get()메서드와 같은 역할입니다.\n",
    "<br>둘 중 원하는 방법으로 사용하셔도 무방합니다.\n",
    "<br>실습은 둘다 진행하겠습니다."
   ]
  },
  {
   "cell_type": "code",
   "execution_count": 23,
   "metadata": {},
   "outputs": [
    {
     "name": "stdout",
     "output_type": "stream",
     "text": [
      "cupy.ndarray result : [1 2 3]\n",
      ".get()       result : [1 2 3]\n"
     ]
    }
   ],
   "source": [
    "print(\"cupy.ndarray result : {}\".format(cp.asnumpy(x_gpu)))\n",
    "print(\".get()       result : {}\".format(x_gpu.get()))"
   ]
  },
  {
   "cell_type": "markdown",
   "metadata": {},
   "source": [
    "### cupy.add(array1, array2)\n",
    "두 어레이의 원소별 덧셈을 반환합니다."
   ]
  },
  {
   "cell_type": "code",
   "execution_count": 24,
   "metadata": {},
   "outputs": [
    {
     "data": {
      "text/plain": [
       "array([10,  7,  9])"
      ]
     },
     "execution_count": 24,
     "metadata": {},
     "output_type": "execute_result"
    }
   ],
   "source": [
    "x_gpu1 = cp.array([1,2,3])\n",
    "x_gpu2 = cp.array([9,5,6])\n",
    "\n",
    "cp.add(x_gpu1, x_gpu2)"
   ]
  },
  {
   "cell_type": "markdown",
   "metadata": {},
   "source": [
    "### cupy.subtract(array1, array2)\n",
    "두 어레이의 원소별 뺄셈을 반환합니다."
   ]
  },
  {
   "cell_type": "code",
   "execution_count": 25,
   "metadata": {},
   "outputs": [
    {
     "data": {
      "text/plain": [
       "array([-8, -3, -3])"
      ]
     },
     "execution_count": 25,
     "metadata": {},
     "output_type": "execute_result"
    }
   ],
   "source": [
    "cp.subtract(x_gpu1, x_gpu2)"
   ]
  },
  {
   "cell_type": "markdown",
   "metadata": {},
   "source": [
    "### cupy.multiply(array1, array2)\n",
    "두 어레이의 원소별 곱셈을 반환합니다."
   ]
  },
  {
   "cell_type": "code",
   "execution_count": 26,
   "metadata": {},
   "outputs": [
    {
     "data": {
      "text/plain": [
       "array([ 9, 10, 18])"
      ]
     },
     "execution_count": 26,
     "metadata": {},
     "output_type": "execute_result"
    }
   ],
   "source": [
    "cp.multiply(x_gpu1, x_gpu2)"
   ]
  },
  {
   "cell_type": "markdown",
   "metadata": {},
   "source": [
    "### cupy.divide(array1, array2)\n",
    "두 어레이의 원소별 나눗셈을 반환합니다."
   ]
  },
  {
   "cell_type": "code",
   "execution_count": 27,
   "metadata": {},
   "outputs": [
    {
     "data": {
      "text/plain": [
       "array([0.11111111, 0.4       , 0.5       ])"
      ]
     },
     "execution_count": 27,
     "metadata": {},
     "output_type": "execute_result"
    }
   ],
   "source": [
    "cp.divide(x_gpu1, x_gpu2)"
   ]
  },
  {
   "cell_type": "markdown",
   "metadata": {},
   "source": [
    "### cupy.power(array1, array2)\n",
    "두 어레이의 원소별 승곱을 반환합니다."
   ]
  },
  {
   "cell_type": "code",
   "execution_count": 28,
   "metadata": {},
   "outputs": [
    {
     "data": {
      "text/plain": [
       "array([  1,  32, 729])"
      ]
     },
     "execution_count": 28,
     "metadata": {},
     "output_type": "execute_result"
    }
   ],
   "source": [
    "cp.power(x_gpu1, x_gpu2)"
   ]
  },
  {
   "cell_type": "markdown",
   "metadata": {},
   "source": [
    "### cupy.mod(array1, array2)\n",
    "두 어레이의 원소별 나머지를 반환합니다."
   ]
  },
  {
   "cell_type": "code",
   "execution_count": 29,
   "metadata": {},
   "outputs": [
    {
     "data": {
      "text/plain": [
       "array([1, 2, 3])"
      ]
     },
     "execution_count": 29,
     "metadata": {},
     "output_type": "execute_result"
    }
   ],
   "source": [
    "cp.mod(x_gpu1, x_gpu2)"
   ]
  },
  {
   "cell_type": "markdown",
   "metadata": {},
   "source": [
    "### cupy.absolute(array)\n",
    "어레이의 원소별 절대값을 취한 값을 반환합니다."
   ]
  },
  {
   "cell_type": "code",
   "execution_count": 30,
   "metadata": {},
   "outputs": [
    {
     "data": {
      "text/plain": [
       "array([1, 2, 3])"
      ]
     },
     "execution_count": 30,
     "metadata": {},
     "output_type": "execute_result"
    }
   ],
   "source": [
    "x_minus = cp.array([-1, -2, -3])\n",
    "\n",
    "cp.absolute(x_minus)"
   ]
  },
  {
   "cell_type": "markdown",
   "metadata": {},
   "source": [
    "### cupy.exp(array)\n",
    "어레이의 원소별 Exponential 결과를 반환합니다."
   ]
  },
  {
   "cell_type": "code",
   "execution_count": 31,
   "metadata": {},
   "outputs": [
    {
     "data": {
      "text/plain": [
       "array([ 2.71828183,  7.3890561 , 20.08553692])"
      ]
     },
     "execution_count": 31,
     "metadata": {},
     "output_type": "execute_result"
    }
   ],
   "source": [
    "cp.exp(x_gpu1)"
   ]
  },
  {
   "cell_type": "markdown",
   "metadata": {},
   "source": [
    "### cupy.log(array)\n",
    "어레이의 원소별 log를 수행합니다."
   ]
  },
  {
   "cell_type": "code",
   "execution_count": 32,
   "metadata": {},
   "outputs": [
    {
     "data": {
      "text/plain": [
       "array([0.        , 0.69314718, 1.09861229])"
      ]
     },
     "execution_count": 32,
     "metadata": {},
     "output_type": "execute_result"
    }
   ],
   "source": [
    "cp.log(x_gpu1)"
   ]
  },
  {
   "cell_type": "markdown",
   "metadata": {},
   "source": [
    "### cupy.sqrt(array)\n",
    "어레이의 원소별 sqaure root 연산을 수행합니다."
   ]
  },
  {
   "cell_type": "code",
   "execution_count": 33,
   "metadata": {},
   "outputs": [
    {
     "data": {
      "text/plain": [
       "array([1.        , 1.41421356, 1.73205081])"
      ]
     },
     "execution_count": 33,
     "metadata": {},
     "output_type": "execute_result"
    }
   ],
   "source": [
    "cp.sqrt(x_gpu1)"
   ]
  },
  {
   "cell_type": "markdown",
   "metadata": {},
   "source": [
    "### cupy.square(array)\n",
    "어레이의 원소별 제곱연산을 수행합니다."
   ]
  },
  {
   "cell_type": "code",
   "execution_count": 34,
   "metadata": {},
   "outputs": [
    {
     "data": {
      "text/plain": [
       "array([1, 4, 9])"
      ]
     },
     "execution_count": 34,
     "metadata": {},
     "output_type": "execute_result"
    }
   ],
   "source": [
    "cp.square(x_gpu1)"
   ]
  },
  {
   "cell_type": "markdown",
   "metadata": {},
   "source": [
    "### cupy.sin, cupy.cos, cupy.tan\n",
    "\n",
    "다양한 삼각함수들도 지원하고 있습니다."
   ]
  },
  {
   "cell_type": "code",
   "execution_count": 35,
   "metadata": {},
   "outputs": [
    {
     "data": {
      "text/plain": [
       "array([0.84147098, 0.90929743, 0.14112001])"
      ]
     },
     "execution_count": 35,
     "metadata": {},
     "output_type": "execute_result"
    }
   ],
   "source": [
    "cp.sin(x_gpu1)"
   ]
  },
  {
   "cell_type": "code",
   "execution_count": 36,
   "metadata": {},
   "outputs": [
    {
     "data": {
      "text/plain": [
       "array([ 0.54030231, -0.41614684, -0.9899925 ])"
      ]
     },
     "execution_count": 36,
     "metadata": {},
     "output_type": "execute_result"
    }
   ],
   "source": [
    "cp.cos(x_gpu1)"
   ]
  },
  {
   "cell_type": "code",
   "execution_count": 37,
   "metadata": {},
   "outputs": [
    {
     "data": {
      "text/plain": [
       "array([ 1.55740772, -2.18503986, -0.14254654])"
      ]
     },
     "execution_count": 37,
     "metadata": {},
     "output_type": "execute_result"
    }
   ],
   "source": [
    "cp.tan(x_gpu1)"
   ]
  },
  {
   "cell_type": "markdown",
   "metadata": {},
   "source": [
    "### cupy.equal(array1, array2)\n",
    "두 어레이의 각 원소별로 값이 같은지 비교하여 반환합니다."
   ]
  },
  {
   "cell_type": "code",
   "execution_count": 38,
   "metadata": {},
   "outputs": [
    {
     "data": {
      "text/plain": [
       "array([ True, False, False])"
      ]
     },
     "execution_count": 38,
     "metadata": {},
     "output_type": "execute_result"
    }
   ],
   "source": [
    "x_gpu3 = cp.array([1, 4, 5])\n",
    "\n",
    "cp.equal(x_gpu1, x_gpu3)"
   ]
  },
  {
   "cell_type": "markdown",
   "metadata": {},
   "source": [
    "### cupy.maximum(array1, array2)\n",
    "두 어레이의 각 원소별로 큰 값을 반환합니다."
   ]
  },
  {
   "cell_type": "code",
   "execution_count": 39,
   "metadata": {},
   "outputs": [
    {
     "data": {
      "text/plain": [
       "array([2, 4, 5])"
      ]
     },
     "execution_count": 39,
     "metadata": {},
     "output_type": "execute_result"
    }
   ],
   "source": [
    "x_gpu1 = cp.array([1, 4, 3])\n",
    "x_gpu2 = cp.array([2, 3, 5])\n",
    "\n",
    "cp.maximum(x_gpu1, x_gpu2)"
   ]
  },
  {
   "cell_type": "markdown",
   "metadata": {},
   "source": [
    "### cupy.minimum(array1, array2)\n",
    "두 어레이의 각 원소별로 작은 값을 반환합니다."
   ]
  },
  {
   "cell_type": "code",
   "execution_count": 40,
   "metadata": {
    "scrolled": true
   },
   "outputs": [
    {
     "data": {
      "text/plain": [
       "array([1, 3, 3])"
      ]
     },
     "execution_count": 40,
     "metadata": {},
     "output_type": "execute_result"
    }
   ],
   "source": [
    "cp.minimum(x_gpu1, x_gpu2)"
   ]
  },
  {
   "cell_type": "markdown",
   "metadata": {},
   "source": [
    "### cupy.floor(array)\n",
    "원소별 floor연산을 수행 후 반환합니다."
   ]
  },
  {
   "cell_type": "code",
   "execution_count": 41,
   "metadata": {},
   "outputs": [
    {
     "data": {
      "text/plain": [
       "array([1., 1., 1.])"
      ]
     },
     "execution_count": 41,
     "metadata": {},
     "output_type": "execute_result"
    }
   ],
   "source": [
    "x_float = cp.array([1.4, 1.5, 1.6])\n",
    "\n",
    "cp.floor(x_float)"
   ]
  },
  {
   "cell_type": "markdown",
   "metadata": {},
   "source": [
    "### cupy.ceil(array)\n",
    "원소별 ceil연산을 수행 후 반환합니다."
   ]
  },
  {
   "cell_type": "code",
   "execution_count": 42,
   "metadata": {},
   "outputs": [
    {
     "data": {
      "text/plain": [
       "array([2., 2., 2.])"
      ]
     },
     "execution_count": 42,
     "metadata": {},
     "output_type": "execute_result"
    }
   ],
   "source": [
    "cp.ceil(x_float)"
   ]
  }
 ],
 "metadata": {
  "kernelspec": {
   "display_name": "Python 3",
   "language": "python",
   "name": "python3"
  },
  "language_info": {
   "codemirror_mode": {
    "name": "ipython",
    "version": 3
   },
   "file_extension": ".py",
   "mimetype": "text/x-python",
   "name": "python",
   "nbconvert_exporter": "python",
   "pygments_lexer": "ipython3",
   "version": "3.6.11"
  }
 },
 "nbformat": 4,
 "nbformat_minor": 4
}
