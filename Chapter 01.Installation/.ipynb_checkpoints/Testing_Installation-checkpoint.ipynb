{
 "cells": [
  {
   "cell_type": "markdown",
   "metadata": {},
   "source": [
    "# Import\n",
    "---\n",
    "\n",
    "  우리가 사용할 cupy,cudf,cuml등을 임포트합니다."
   ]
  },
  {
   "cell_type": "code",
   "execution_count": 1,
   "metadata": {},
   "outputs": [],
   "source": [
    "import cupy as cp\n",
    "import cudf as cd\n",
    "import cuml as cm"
   ]
  },
  {
   "cell_type": "markdown",
   "metadata": {},
   "source": [
    "## Simple Test"
   ]
  },
  {
   "cell_type": "code",
   "execution_count": 2,
   "metadata": {
    "scrolled": true
   },
   "outputs": [
    {
     "name": "stdout",
     "output_type": "stream",
     "text": [
      "X :  [1 2 3 4 5 6 7 8 9]\n",
      "Mon Aug  3 02:09:38 2020       \r\n",
      "+-----------------------------------------------------------------------------+\r\n",
      "| NVIDIA-SMI 440.100      Driver Version: 440.100      CUDA Version: 10.2     |\r\n",
      "|-------------------------------+----------------------+----------------------+\r\n",
      "| GPU  Name        Persistence-M| Bus-Id        Disp.A | Volatile Uncorr. ECC |\r\n",
      "| Fan  Temp  Perf  Pwr:Usage/Cap|         Memory-Usage | GPU-Util  Compute M. |\r\n",
      "|===============================+======================+======================|\r\n",
      "|   0  GeForce GTX 1050    Off  | 00000000:01:00.0 Off |                  N/A |\r\n",
      "| N/A   51C    P0    N/A /  N/A |    642MiB /  4042MiB |      3%      Default |\r\n",
      "+-------------------------------+----------------------+----------------------+\r\n",
      "                                                                               \r\n",
      "+-----------------------------------------------------------------------------+\r\n",
      "| Processes:                                                       GPU Memory |\r\n",
      "|  GPU       PID   Type   Process name                             Usage      |\r\n",
      "|=============================================================================|\r\n",
      "|    0      1419      G   /usr/lib/xorg/Xorg                           160MiB |\r\n",
      "|    0      1593      G   /usr/bin/gnome-shell                         128MiB |\r\n",
      "|    0      2099      G   ...uest-channel-token=15917887777431691985    48MiB |\r\n",
      "|    0      2802      G   ...AAAAAAAAAAAACAAAAAAAAAA= --shared-files    62MiB |\r\n",
      "|    0      3738      C   ...eejeyoung/anaconda3/envs/LJY/bin/python   229MiB |\r\n",
      "+-----------------------------------------------------------------------------+\r\n"
     ]
    }
   ],
   "source": [
    "X_cp = cp.array([1,2,3,4,5,6,7,8,9])\n",
    "y_cp = cp.array([11,22,33,44,53,66,77,87,95])\n",
    "\n",
    "print(\"X : \", X_cp)\n",
    "\n",
    "!nvidia-smi"
   ]
  },
  {
   "cell_type": "markdown",
   "metadata": {},
   "source": [
    "## Matplot ploting\n",
    "---\n",
    "물론 RAPIDS용 비주얼라이제이션 툴이 있습니다만, 우선은 matplot에서 찍어보겠습니다"
   ]
  },
  {
   "cell_type": "code",
   "execution_count": 3,
   "metadata": {},
   "outputs": [
    {
     "data": {
      "text/plain": [
       "[<matplotlib.lines.Line2D at 0x7f93215bdb38>]"
      ]
     },
     "execution_count": 3,
     "metadata": {},
     "output_type": "execute_result"
    },
    {
     "data": {
      "image/png": "[encoded data removed]",
      "text/plain": [
       "<Figure size 432x288 with 1 Axes>"
      ]
     },
     "metadata": {
      "needs_background": "light"
     },
     "output_type": "display_data"
    }
   ],
   "source": [
    "%matplotlib inline\n",
    "\n",
    "import matplotlib.pyplot as plt\n",
    "plt.plot(X_cp.get(), y_cp.get(), 'k.')"
   ]
  },
  {
   "cell_type": "markdown",
   "metadata": {},
   "source": [
    "## Supplemental Test\n",
    "---\n",
    "<br>\n",
    "GPU사용보다 CPU사용이 더 나은 경우도 물론 있습니다.\n",
    "\n",
    "Nvidia DLI에서 밝히기로는, 보통은 GPU에 맞춰서 데이터를 가공하지 못했거나, 잘못된 코드 사용, 너무 적은 데이터로 사용 등이 그 이유에 해당된다고 하는데요, 그 중 너무 적은 데이터의 사용에 대해서, 몇가지 간단한 테스트를 해보겠습니다."
   ]
  },
  {
   "cell_type": "code",
   "execution_count": 4,
   "metadata": {},
   "outputs": [],
   "source": [
    "import cupy as cp\n",
    "import numpy as np"
   ]
  },
  {
   "cell_type": "markdown",
   "metadata": {},
   "source": [
    "### N이 100일 때"
   ]
  },
  {
   "cell_type": "code",
   "execution_count": 5,
   "metadata": {},
   "outputs": [],
   "source": [
    "n = 100"
   ]
  },
  {
   "cell_type": "code",
   "execution_count": 6,
   "metadata": {},
   "outputs": [
    {
     "name": "stdout",
     "output_type": "stream",
     "text": [
      "CPU times: user 923 µs, sys: 8.33 ms, total: 9.26 ms\n",
      "Wall time: 2 ms\n"
     ]
    }
   ],
   "source": [
    "%%time\n",
    "a = np.random.rand(n,n)\n",
    "b = np.random.rand(n,n)\n",
    "\n",
    "result = np.matmul(a,b)"
   ]
  },
  {
   "cell_type": "code",
   "execution_count": 7,
   "metadata": {},
   "outputs": [
    {
     "name": "stdout",
     "output_type": "stream",
     "text": [
      "CPU times: user 317 ms, sys: 116 ms, total: 434 ms\n",
      "Wall time: 228 ms\n"
     ]
    }
   ],
   "source": [
    "%%time\n",
    "a = cp.random.rand(n,n)\n",
    "b = cp.random.rand(n,n)\n",
    "\n",
    "result = cp.matmul(a,b)"
   ]
  },
  {
   "cell_type": "markdown",
   "metadata": {},
   "source": [
    "### N이 1000일 때"
   ]
  },
  {
   "cell_type": "code",
   "execution_count": 8,
   "metadata": {},
   "outputs": [],
   "source": [
    "n = 1000"
   ]
  },
  {
   "cell_type": "code",
   "execution_count": 9,
   "metadata": {},
   "outputs": [
    {
     "name": "stdout",
     "output_type": "stream",
     "text": [
      "CPU times: user 289 ms, sys: 32.1 ms, total: 321 ms\n",
      "Wall time: 54.2 ms\n"
     ]
    }
   ],
   "source": [
    "%%time\n",
    "a = np.random.rand(n,n)\n",
    "b = np.random.rand(n,n)\n",
    "\n",
    "result = np.matmul(a,b)"
   ]
  },
  {
   "cell_type": "code",
   "execution_count": 10,
   "metadata": {},
   "outputs": [
    {
     "name": "stdout",
     "output_type": "stream",
     "text": [
      "CPU times: user 588 µs, sys: 237 µs, total: 825 µs\n",
      "Wall time: 634 µs\n"
     ]
    }
   ],
   "source": [
    "%%time\n",
    "a = cp.random.rand(n,n)\n",
    "b = cp.random.rand(n,n)\n",
    "\n",
    "result = cp.matmul(a,b)"
   ]
  },
  {
   "cell_type": "markdown",
   "metadata": {},
   "source": [
    "### N이 10000일 때"
   ]
  },
  {
   "cell_type": "code",
   "execution_count": 11,
   "metadata": {},
   "outputs": [],
   "source": [
    "n = 10000"
   ]
  },
  {
   "cell_type": "code",
   "execution_count": 12,
   "metadata": {},
   "outputs": [
    {
     "name": "stdout",
     "output_type": "stream",
     "text": [
      "CPU times: user 2min 50s, sys: 3.77 s, total: 2min 54s\n",
      "Wall time: 23.5 s\n"
     ]
    }
   ],
   "source": [
    "%%time\n",
    "a = np.random.rand(n,n)\n",
    "b = np.random.rand(n,n)\n",
    "\n",
    "result = np.matmul(a,b)"
   ]
  },
  {
   "cell_type": "code",
   "execution_count": 13,
   "metadata": {},
   "outputs": [
    {
     "name": "stdout",
     "output_type": "stream",
     "text": [
      "CPU times: user 10.8 ms, sys: 24.1 ms, total: 34.9 ms\n",
      "Wall time: 17.1 ms\n"
     ]
    }
   ],
   "source": [
    "%%time\n",
    "a = cp.random.rand(n,n)\n",
    "b = cp.random.rand(n,n)\n",
    "\n",
    "result = cp.matmul(a,b)"
   ]
  }
 ],
 "metadata": {
  "kernelspec": {
   "display_name": "Python 3.6.10 64-bit ('LJY': conda)",
   "language": "python",
   "name": "python361064bitljyconda973d125d6945411e9f042272cca7044f"
  },
  "language_info": {
   "codemirror_mode": {
    "name": "ipython",
    "version": 3
   },
   "file_extension": ".py",
   "mimetype": "text/x-python",
   "name": "python",
   "nbconvert_exporter": "python",
   "pygments_lexer": "ipython3",
   "version": "3.6.10"
  }
 },
 "nbformat": 4,
 "nbformat_minor": 4
}
