{
 "cells": [
  {
   "cell_type": "markdown",
   "metadata": {},
   "source": [
    "# Import\n",
    "---\n",
    "\n",
    "  우리가 사용할 cupy,cudf,cuml등을 임포트합니다."
   ]
  },
  {
   "cell_type": "code",
   "execution_count": 2,
   "metadata": {},
   "outputs": [],
   "source": [
    "import cupy as cp\n",
    "import cudf as cd\n",
    "import cuml as cm"
   ]
  },
  {
   "cell_type": "markdown",
   "metadata": {},
   "source": [
    "## Simple Test"
   ]
  },
  {
   "cell_type": "code",
   "execution_count": null,
   "metadata": {},
   "outputs": [],
   "source": [
    "X_cp = cp.array([1,2,3,4,5,6,7,8,9])\n",
    "\n",
    "print(\"X : \", X_cp)\n",
    "\n",
    "!nvidia-smi"
   ]
  },
  {
   "cell_type": "markdown",
   "metadata": {},
   "source": [
    "## Matplot ploting\n",
    "---\n",
    "물론 RAPIDS용 비주얼라이제이션 툴이 있습니다만, 우선은 matplot에서 찍어보겠습니다"
   ]
  },
  {
   "cell_type": "code",
   "execution_count": null,
   "metadata": {},
   "outputs": [],
   "source": [
    "%matplotlib inline\n",
    "\n",
    "import matplotlib.pyplot as plt\n",
    "plt.plot(X_cp.get(), 'b', X)"
   ]
  },
  {
   "cell_type": "markdown",
   "metadata": {},
   "source": [
    "## Supplemental Test\n",
    "---\n",
    "<br>\n",
    "GPU사용보다 CPU사용이 더 나은 경우도 물론 있습니다.\n",
    "\n",
    "Nvidia DLI에서 밝히기로는, 보통은 GPU에 맞춰서 데이터를 가공하지 못했거나, 잘못된 코드 사용, 너무 적은 데이터로 사용 등이 그 이유에 해당된다고 하는데요, 그 중 너무 적은 데이터의 사용에 대해서, 몇가지 간단한 테스트를 해보겠습니다."
   ]
  },
  {
   "cell_type": "code",
   "execution_count": null,
   "metadata": {},
   "outputs": [],
   "source": [
    "import cupy as cp\n",
    "import numpy as np"
   ]
  },
  {
   "cell_type": "markdown",
   "metadata": {},
   "source": [
    "### N이 100일 때"
   ]
  },
  {
   "cell_type": "code",
   "execution_count": null,
   "metadata": {},
   "outputs": [],
   "source": [
    "n = 100"
   ]
  },
  {
   "cell_type": "code",
   "execution_count": null,
   "metadata": {},
   "outputs": [],
   "source": [
    "\n",
    "\n",
    "%%time\n",
    "a = cp.random.rand(n,n)\n",
    "b = cp.random.rand(n,n)\n",
    "\n",
    "result = cp.matmul(a,b)"
   ]
  },
  {
   "cell_type": "code",
   "execution_count": null,
   "metadata": {},
   "outputs": [],
   "source": [
    "n = 1000\n",
    "\n",
    "a = cp.random.rand(n,n)\n",
    "b = cp.random.rand(n,n)\n",
    "\n",
    "result = cp.matmul(a,b)"
   ]
  },
  {
   "cell_type": "code",
   "execution_count": null,
   "metadata": {},
   "outputs": [],
   "source": [
    "n = 10000\n",
    "\n",
    "%%time\n",
    "a = cp.random.rand(n,n)\n",
    "b = cp.random.rand(n,n)\n",
    "\n",
    "result = cp.matmul(a,b)"
   ]
  }
 ],
 "metadata": {
  "kernelspec": {
   "display_name": "Python 3.6.10 64-bit ('LJY': conda)",
   "language": "python",
   "name": "python361064bitljyconda973d125d6945411e9f042272cca7044f"
  },
  "language_info": {
   "codemirror_mode": {
    "name": "ipython",
    "version": 3
   },
   "file_extension": ".py",
   "mimetype": "text/x-python",
   "name": "python",
   "nbconvert_exporter": "python",
   "pygments_lexer": "ipython3",
   "version": "3.6.10"
  }
 },
 "nbformat": 4,
 "nbformat_minor": 4
}
